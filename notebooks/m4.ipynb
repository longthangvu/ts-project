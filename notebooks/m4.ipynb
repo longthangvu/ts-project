{
 "cells": [
  {
   "cell_type": "markdown",
   "metadata": {},
   "source": [
    "# Baseline Methods Benchmarking for M4 Dataset"
   ]
  },
  {
   "cell_type": "markdown",
   "metadata": {},
   "source": [
    "## Setup"
   ]
  },
  {
   "cell_type": "code",
   "execution_count": 1,
   "id": "d897278f",
   "metadata": {},
   "outputs": [],
   "source": [
    "import sys\n",
    "import os\n",
    "\n",
    "# Go up one level to project root\n",
    "project_root = os.path.abspath(os.path.join(os.getcwd(), '..'))\n",
    "sys.path.append(project_root)"
   ]
  },
  {
   "cell_type": "code",
   "execution_count": 2,
   "id": "2a0e31df",
   "metadata": {},
   "outputs": [],
   "source": [
    "from data_provider.data_factory import data_provider\n",
    "from types import SimpleNamespace\n",
    "from utils.tools import visual\n",
    "from data_provider.m4 import M4Meta\n",
    "from utils.m4_summary import M4Summary\n",
    "import numpy as np\n",
    "import pandas as pd\n",
    "import torch\n",
    "\n",
    "DATA_PATH = '../../Time-Series-Library/dataset/m4'     # Replace with actual dataset path"
   ]
  },
  {
   "cell_type": "code",
   "execution_count": 3,
   "id": "1d17c34f",
   "metadata": {},
   "outputs": [],
   "source": [
    "def get_args(seasonal_pattern: str='Hourly') -> SimpleNamespace:\n",
    "    return SimpleNamespace(\n",
    "        data='m4',\n",
    "        root_path=DATA_PATH,\n",
    "        data_path=f'{seasonal_pattern}-train.csv',\n",
    "        features='M',\n",
    "        target='value',\n",
    "        freq='h',                                         # Inferred from 'Hourly'\n",
    "        seq_len=36,                                       # Typical M4 short-term setting\n",
    "        label_len=18,                                     # Used for decoder input, not needed for naive\n",
    "        pred_len=M4Meta.horizons_map[seasonal_pattern],   # Forecast horizon\n",
    "        embed='timeF',\n",
    "        seasonal_patterns=seasonal_pattern,\n",
    "        batch_size=1,\n",
    "        num_workers=0,\n",
    "    )\n",
    "\n",
    "def get_data(args: SimpleNamespace):\n",
    "    _, train_loader = data_provider(args, flag='train')\n",
    "    _, test_loader = data_provider(args, flag='test')\n",
    "\n",
    "    x = train_loader.dataset.timeseries                 # list of all time series\n",
    "    # True future values from test set\n",
    "    y = test_loader.dataset.timeseries                  # shape: [B, pred_len]\n",
    "\n",
    "    # x = torch.tensor(x, dtype=torch.float32)\n",
    "    x = [torch.tensor(s, dtype=torch.float32) for s in x]\n",
    "    y = torch.tensor(y, dtype=torch.float32)\n",
    "    return x, y, test_loader\n",
    "\n",
    "def evaluate(model: str, args: SimpleNamespace, x: list[torch.Tensor], y: torch.Tensor, test_loader, preds: torch.Tensor):\n",
    "    x_np = [s.numpy() for s in x]\n",
    "    preds_np = preds.numpy()\n",
    "    test_path = f'./test_results/m4_{model}_{args.seasonal_patterns}/'\n",
    "    os.makedirs(test_path, exist_ok=True)\n",
    "\n",
    "    for i in range(0, preds.shape[0], preds.shape[0] // 10):\n",
    "        gt = np.concatenate((x_np[i], y[i].numpy()), axis=0)\n",
    "        prd = np.concatenate((x_np[i], preds_np[i]), axis=0)\n",
    "        visual(gt, prd, os.path.join(f'./test_results/m4_{model}_{args.seasonal_patterns}/', f'{i}.pdf'))\n",
    "    \n",
    "    folder_path = './m4_results/' + model + '/'\n",
    "    os.makedirs(folder_path, exist_ok=True)\n",
    "\n",
    "    # Save as DataFrame with proper ID indexing\n",
    "    forecasts_df = pd.DataFrame(preds_np, columns=[f'V{i + 1}' for i in range(args.pred_len)])\n",
    "    forecasts_df.to_csv(os.path.join(folder_path, args.seasonal_patterns + '_forecast.csv'), index=False)\n",
    "\n",
    "    required_files = {\n",
    "        'Weekly_forecast.csv',\n",
    "        'Monthly_forecast.csv',\n",
    "        'Yearly_forecast.csv',\n",
    "        'Daily_forecast.csv',\n",
    "        'Hourly_forecast.csv',\n",
    "        'Quarterly_forecast.csv',\n",
    "    }\n",
    "\n",
    "    if required_files.issubset(set(os.listdir(folder_path))):\n",
    "        m4_summary = M4Summary(folder_path, args.root_path)\n",
    "        smape_results, owa_results, mape, mase = m4_summary.evaluate()\n",
    "        print('smape:', smape_results)\n",
    "        print('mape:', mape)\n",
    "        print('mase:', mase)\n",
    "        print('owa:', owa_results)\n",
    "    else:\n",
    "        print('After all 6 tasks are finished, you can calculate the averaged index.')\n"
   ]
  },
  {
   "cell_type": "markdown",
   "metadata": {},
   "source": [
    "## Naive Predictions\n",
    "\n",
    "We have 3 types: last value, mean value, and seasonal (predicting using points from the last cycle)"
   ]
  },
  {
   "cell_type": "code",
   "execution_count": 4,
   "metadata": {},
   "outputs": [],
   "source": [
    "from models.traditional_models import naive_mean, naive_last, naive_seasonal"
   ]
  },
  {
   "cell_type": "code",
   "execution_count": 5,
   "metadata": {},
   "outputs": [
    {
     "name": "stdout",
     "output_type": "stream",
     "text": [
      "Naive Last\n",
      "train 48000\n",
      "test 48000\n",
      "smape: {'Yearly': 16.342, 'Quarterly': 11.61, 'Monthly': 15.256, 'Others': 6.793, 'Average': 14.208}\n",
      "mape: {'Yearly': 17.507, 'Quarterly': 13.182, 'Monthly': 19.014, 'Others': 7.33, 'Average': 16.684}\n",
      "mase: {'Yearly': 3.974, 'Quarterly': 1.477, 'Monthly': 1.205, 'Others': 3.932, 'Average': 2.044}\n",
      "owa: {'Yearly': 1.0, 'Quarterly': 1.066, 'Monthly': 1.095, 'Others': 1.335, 'Average': 1.058}\n",
      "train 23000\n",
      "test 23000\n",
      "smape: {'Yearly': 16.342, 'Quarterly': 11.61, 'Monthly': 15.256, 'Others': 6.793, 'Average': 14.208}\n",
      "mape: {'Yearly': 17.507, 'Quarterly': 13.182, 'Monthly': 19.014, 'Others': 7.33, 'Average': 16.684}\n",
      "mase: {'Yearly': 3.974, 'Quarterly': 1.477, 'Monthly': 1.205, 'Others': 3.932, 'Average': 2.044}\n",
      "owa: {'Yearly': 1.0, 'Quarterly': 1.066, 'Monthly': 1.095, 'Others': 1.335, 'Average': 1.058}\n",
      "train 24000\n",
      "test 24000\n",
      "smape: {'Yearly': 16.342, 'Quarterly': 11.61, 'Monthly': 15.256, 'Others': 6.793, 'Average': 14.208}\n",
      "mape: {'Yearly': 17.507, 'Quarterly': 13.182, 'Monthly': 19.014, 'Others': 7.33, 'Average': 16.684}\n",
      "mase: {'Yearly': 3.974, 'Quarterly': 1.477, 'Monthly': 1.205, 'Others': 3.932, 'Average': 2.044}\n",
      "owa: {'Yearly': 1.0, 'Quarterly': 1.066, 'Monthly': 1.095, 'Others': 1.335, 'Average': 1.058}\n",
      "train 359\n",
      "test 359\n",
      "smape: {'Yearly': 16.342, 'Quarterly': 11.61, 'Monthly': 15.256, 'Others': 6.793, 'Average': 14.208}\n",
      "mape: {'Yearly': 17.507, 'Quarterly': 13.182, 'Monthly': 19.014, 'Others': 7.33, 'Average': 16.684}\n",
      "mase: {'Yearly': 3.974, 'Quarterly': 1.477, 'Monthly': 1.205, 'Others': 3.932, 'Average': 2.044}\n",
      "owa: {'Yearly': 1.0, 'Quarterly': 1.066, 'Monthly': 1.095, 'Others': 1.335, 'Average': 1.058}\n",
      "train 4227\n",
      "test 4227\n",
      "smape: {'Yearly': 16.342, 'Quarterly': 11.61, 'Monthly': 15.256, 'Others': 6.793, 'Average': 14.208}\n",
      "mape: {'Yearly': 17.507, 'Quarterly': 13.182, 'Monthly': 19.014, 'Others': 7.33, 'Average': 16.684}\n",
      "mase: {'Yearly': 3.974, 'Quarterly': 1.477, 'Monthly': 1.205, 'Others': 3.932, 'Average': 2.044}\n",
      "owa: {'Yearly': 1.0, 'Quarterly': 1.066, 'Monthly': 1.095, 'Others': 1.335, 'Average': 1.058}\n",
      "train 414\n",
      "test 414\n",
      "smape: {'Yearly': 16.342, 'Quarterly': 11.61, 'Monthly': 15.256, 'Others': 6.793, 'Average': 14.208}\n",
      "mape: {'Yearly': 17.507, 'Quarterly': 13.182, 'Monthly': 19.014, 'Others': 7.33, 'Average': 16.684}\n",
      "mase: {'Yearly': 3.974, 'Quarterly': 1.477, 'Monthly': 1.205, 'Others': 3.932, 'Average': 2.044}\n",
      "owa: {'Yearly': 1.0, 'Quarterly': 1.066, 'Monthly': 1.095, 'Others': 1.335, 'Average': 1.058}\n"
     ]
    }
   ],
   "source": [
    "print('Naive Last')\n",
    "for pattern in [\"Monthly\", \"Yearly\", \"Quarterly\", \"Weekly\", \"Daily\", \"Hourly\"]:\n",
    "    args = get_args(pattern)\n",
    "    x, y, test_loader = get_data(args)\n",
    "    last_preds = naive_last(x, args.pred_len)\n",
    "    evaluate('last_naive', args, x, y, test_loader, last_preds)"
   ]
  },
  {
   "cell_type": "code",
   "execution_count": 6,
   "metadata": {},
   "outputs": [
    {
     "name": "stdout",
     "output_type": "stream",
     "text": [
      "Naive Mean\n",
      "train 48000\n",
      "test 48000\n",
      "smape: {'Yearly': 56.095, 'Quarterly': 40.006, 'Monthly': 35.153, 'Others': 32.123, 'Average': 40.983}\n",
      "mape: {'Yearly': 48.357, 'Quarterly': 38.6, 'Monthly': 42.625, 'Others': 39.2, 'Average': 42.806}\n",
      "mase: {'Yearly': 13.421, 'Quarterly': 6.502, 'Monthly': 4.109, 'Others': 36.742, 'Average': 8.457}\n",
      "owa: {'Yearly': 3.405, 'Quarterly': 4.187, 'Monthly': 3.15, 'Others': 9.175, 'Average': 3.722}\n",
      "train 23000\n",
      "test 23000\n",
      "smape: {'Yearly': 56.095, 'Quarterly': 40.006, 'Monthly': 35.153, 'Others': 32.123, 'Average': 40.983}\n",
      "mape: {'Yearly': 48.357, 'Quarterly': 38.6, 'Monthly': 42.625, 'Others': 39.2, 'Average': 42.806}\n",
      "mase: {'Yearly': 13.421, 'Quarterly': 6.502, 'Monthly': 4.109, 'Others': 36.742, 'Average': 8.457}\n",
      "owa: {'Yearly': 3.405, 'Quarterly': 4.187, 'Monthly': 3.15, 'Others': 9.175, 'Average': 3.722}\n",
      "train 24000\n",
      "test 24000\n",
      "smape: {'Yearly': 56.095, 'Quarterly': 40.006, 'Monthly': 35.153, 'Others': 32.123, 'Average': 40.983}\n",
      "mape: {'Yearly': 48.357, 'Quarterly': 38.6, 'Monthly': 42.625, 'Others': 39.2, 'Average': 42.806}\n",
      "mase: {'Yearly': 13.421, 'Quarterly': 6.502, 'Monthly': 4.109, 'Others': 36.742, 'Average': 8.457}\n",
      "owa: {'Yearly': 3.405, 'Quarterly': 4.187, 'Monthly': 3.15, 'Others': 9.175, 'Average': 3.722}\n",
      "train 359\n",
      "test 359\n",
      "smape: {'Yearly': 56.095, 'Quarterly': 40.006, 'Monthly': 35.153, 'Others': 32.123, 'Average': 40.983}\n",
      "mape: {'Yearly': 48.357, 'Quarterly': 38.6, 'Monthly': 42.625, 'Others': 39.2, 'Average': 42.806}\n",
      "mase: {'Yearly': 13.421, 'Quarterly': 6.502, 'Monthly': 4.109, 'Others': 36.742, 'Average': 8.457}\n",
      "owa: {'Yearly': 3.405, 'Quarterly': 4.187, 'Monthly': 3.15, 'Others': 9.175, 'Average': 3.722}\n",
      "train 4227\n",
      "test 4227\n",
      "smape: {'Yearly': 56.095, 'Quarterly': 40.006, 'Monthly': 35.153, 'Others': 32.123, 'Average': 40.983}\n",
      "mape: {'Yearly': 48.357, 'Quarterly': 38.6, 'Monthly': 42.625, 'Others': 39.2, 'Average': 42.806}\n",
      "mase: {'Yearly': 13.421, 'Quarterly': 6.502, 'Monthly': 4.109, 'Others': 36.742, 'Average': 8.457}\n",
      "owa: {'Yearly': 3.405, 'Quarterly': 4.187, 'Monthly': 3.15, 'Others': 9.175, 'Average': 3.722}\n",
      "train 414\n",
      "test 414\n",
      "smape: {'Yearly': 56.095, 'Quarterly': 40.006, 'Monthly': 35.153, 'Others': 32.123, 'Average': 40.983}\n",
      "mape: {'Yearly': 48.357, 'Quarterly': 38.6, 'Monthly': 42.625, 'Others': 39.2, 'Average': 42.806}\n",
      "mase: {'Yearly': 13.421, 'Quarterly': 6.502, 'Monthly': 4.109, 'Others': 36.742, 'Average': 8.457}\n",
      "owa: {'Yearly': 3.405, 'Quarterly': 4.187, 'Monthly': 3.15, 'Others': 9.175, 'Average': 3.722}\n"
     ]
    }
   ],
   "source": [
    "print('Naive Mean')\n",
    "for pattern in [\"Monthly\", \"Yearly\", \"Quarterly\", \"Weekly\", \"Daily\", \"Hourly\"]:\n",
    "    args = get_args(pattern)\n",
    "    x, y, test_loader = get_data(args)\n",
    "    mean_preds = naive_mean(x, args.pred_len)\n",
    "    evaluate('mean_naive', args, x, y, test_loader, mean_preds)"
   ]
  },
  {
   "cell_type": "code",
   "execution_count": 7,
   "metadata": {},
   "outputs": [
    {
     "name": "stdout",
     "output_type": "stream",
     "text": [
      "Naive Seasonal\n",
      "train 48000\n",
      "test 48000\n",
      "smape: {'Yearly': 16.342, 'Quarterly': 12.521, 'Monthly': 15.988, 'Others': 4.384, 'Average': 14.657}\n",
      "mape: {'Yearly': 17.507, 'Quarterly': 14.193, 'Monthly': 19.223, 'Others': 5.5, 'Average': 16.935}\n",
      "mase: {'Yearly': 3.974, 'Quarterly': 1.602, 'Monthly': 1.26, 'Others': 3.07, 'Average': 2.057}\n",
      "owa: {'Yearly': 1.0, 'Quarterly': 1.153, 'Monthly': 1.146, 'Others': 0.945, 'Average': 1.078}\n",
      "train 23000\n",
      "test 23000\n",
      "smape: {'Yearly': 16.342, 'Quarterly': 12.521, 'Monthly': 15.988, 'Others': 4.384, 'Average': 14.657}\n",
      "mape: {'Yearly': 17.507, 'Quarterly': 14.193, 'Monthly': 19.223, 'Others': 5.5, 'Average': 16.935}\n",
      "mase: {'Yearly': 3.974, 'Quarterly': 1.602, 'Monthly': 1.26, 'Others': 3.07, 'Average': 2.057}\n",
      "owa: {'Yearly': 1.0, 'Quarterly': 1.153, 'Monthly': 1.146, 'Others': 0.945, 'Average': 1.078}\n",
      "train 24000\n",
      "test 24000\n",
      "smape: {'Yearly': 16.342, 'Quarterly': 12.521, 'Monthly': 15.988, 'Others': 4.384, 'Average': 14.657}\n",
      "mape: {'Yearly': 17.507, 'Quarterly': 14.193, 'Monthly': 19.223, 'Others': 5.5, 'Average': 16.935}\n",
      "mase: {'Yearly': 3.974, 'Quarterly': 1.602, 'Monthly': 1.26, 'Others': 3.07, 'Average': 2.057}\n",
      "owa: {'Yearly': 1.0, 'Quarterly': 1.153, 'Monthly': 1.146, 'Others': 0.945, 'Average': 1.078}\n",
      "train 359\n",
      "test 359\n",
      "smape: {'Yearly': 16.342, 'Quarterly': 12.521, 'Monthly': 15.988, 'Others': 4.384, 'Average': 14.657}\n",
      "mape: {'Yearly': 17.507, 'Quarterly': 14.193, 'Monthly': 19.223, 'Others': 5.5, 'Average': 16.935}\n",
      "mase: {'Yearly': 3.974, 'Quarterly': 1.602, 'Monthly': 1.26, 'Others': 3.07, 'Average': 2.057}\n",
      "owa: {'Yearly': 1.0, 'Quarterly': 1.153, 'Monthly': 1.146, 'Others': 0.945, 'Average': 1.078}\n",
      "train 4227\n",
      "test 4227\n",
      "smape: {'Yearly': 16.342, 'Quarterly': 12.521, 'Monthly': 15.988, 'Others': 4.384, 'Average': 14.657}\n",
      "mape: {'Yearly': 17.507, 'Quarterly': 14.193, 'Monthly': 19.223, 'Others': 5.5, 'Average': 16.935}\n",
      "mase: {'Yearly': 3.974, 'Quarterly': 1.602, 'Monthly': 1.26, 'Others': 3.07, 'Average': 2.057}\n",
      "owa: {'Yearly': 1.0, 'Quarterly': 1.153, 'Monthly': 1.146, 'Others': 0.945, 'Average': 1.078}\n",
      "train 414\n",
      "test 414\n",
      "smape: {'Yearly': 16.342, 'Quarterly': 12.521, 'Monthly': 15.988, 'Others': 4.384, 'Average': 14.657}\n",
      "mape: {'Yearly': 17.507, 'Quarterly': 14.193, 'Monthly': 19.223, 'Others': 5.5, 'Average': 16.935}\n",
      "mase: {'Yearly': 3.974, 'Quarterly': 1.602, 'Monthly': 1.26, 'Others': 3.07, 'Average': 2.057}\n",
      "owa: {'Yearly': 1.0, 'Quarterly': 1.153, 'Monthly': 1.146, 'Others': 0.945, 'Average': 1.078}\n"
     ]
    }
   ],
   "source": [
    "print('Naive Seasonal')\n",
    "for pattern in [\"Monthly\", \"Yearly\", \"Quarterly\", \"Weekly\", \"Daily\", \"Hourly\"]:\n",
    "    args = get_args(pattern)\n",
    "    x, y, test_loader = get_data(args)\n",
    "    seasonal_preds = naive_seasonal(x, args.pred_len, M4Meta.frequency_map[args.seasonal_patterns])\n",
    "    evaluate('seasonal_naive', args, x, y, test_loader, seasonal_preds)"
   ]
  },
  {
   "cell_type": "markdown",
   "metadata": {},
   "source": [
    "## Statistical Models\n",
    "We use 3 statistical models: ETS, Naive2 (resemblance), DHR-ARIMA"
   ]
  },
  {
   "cell_type": "code",
   "execution_count": 4,
   "metadata": {},
   "outputs": [],
   "source": [
    "from models.traditional_models import ets_forecast, naive2_forecast, dhr_arima_forecast"
   ]
  },
  {
   "cell_type": "code",
   "execution_count": 5,
   "metadata": {},
   "outputs": [
    {
     "name": "stdout",
     "output_type": "stream",
     "text": [
      "ETS - Exponential Smoothing\n",
      "train 48000\n",
      "test 48000\n",
      "smape: {'Yearly': 16.7, 'Quarterly': 11.1, 'Monthly': 15.656, 'Others': 5.974, 'Average': 14.318}\n",
      "mape: {'Yearly': 19.47, 'Quarterly': 12.748, 'Monthly': 18.293, 'Others': 7.589, 'Average': 16.697}\n",
      "mase: {'Yearly': 3.619, 'Quarterly': 1.185, 'Monthly': 1.002, 'Others': 3.255, 'Average': 1.761}\n",
      "owa: {'Yearly': 0.966, 'Quarterly': 0.936, 'Monthly': 1.014, 'Others': 1.142, 'Average': 0.988}\n",
      "train 23000\n",
      "test 23000\n",
      "smape: {'Yearly': 16.7, 'Quarterly': 11.1, 'Monthly': 15.656, 'Others': 5.974, 'Average': 14.318}\n",
      "mape: {'Yearly': 19.47, 'Quarterly': 12.748, 'Monthly': 18.293, 'Others': 7.589, 'Average': 16.697}\n",
      "mase: {'Yearly': 3.619, 'Quarterly': 1.185, 'Monthly': 1.002, 'Others': 3.255, 'Average': 1.761}\n",
      "owa: {'Yearly': 0.966, 'Quarterly': 0.936, 'Monthly': 1.014, 'Others': 1.142, 'Average': 0.988}\n",
      "train 24000\n",
      "test 24000\n",
      "smape: {'Yearly': 16.7, 'Quarterly': 11.1, 'Monthly': 15.656, 'Others': 5.974, 'Average': 14.318}\n",
      "mape: {'Yearly': 19.47, 'Quarterly': 12.748, 'Monthly': 18.293, 'Others': 7.589, 'Average': 16.697}\n",
      "mase: {'Yearly': 3.619, 'Quarterly': 1.185, 'Monthly': 1.002, 'Others': 3.255, 'Average': 1.761}\n",
      "owa: {'Yearly': 0.966, 'Quarterly': 0.936, 'Monthly': 1.014, 'Others': 1.142, 'Average': 0.988}\n",
      "train 359\n",
      "test 359\n",
      "smape: {'Yearly': 16.7, 'Quarterly': 11.1, 'Monthly': 15.656, 'Others': 5.974, 'Average': 14.318}\n",
      "mape: {'Yearly': 19.47, 'Quarterly': 12.748, 'Monthly': 18.293, 'Others': 7.589, 'Average': 16.697}\n",
      "mase: {'Yearly': 3.619, 'Quarterly': 1.185, 'Monthly': 1.002, 'Others': 3.255, 'Average': 1.761}\n",
      "owa: {'Yearly': 0.966, 'Quarterly': 0.936, 'Monthly': 1.014, 'Others': 1.142, 'Average': 0.988}\n",
      "train 4227\n",
      "test 4227\n",
      "smape: {'Yearly': 16.7, 'Quarterly': 11.1, 'Monthly': 15.656, 'Others': 5.974, 'Average': 14.318}\n",
      "mape: {'Yearly': 19.47, 'Quarterly': 12.748, 'Monthly': 18.293, 'Others': 7.589, 'Average': 16.697}\n",
      "mase: {'Yearly': 3.619, 'Quarterly': 1.185, 'Monthly': 1.002, 'Others': 3.255, 'Average': 1.761}\n",
      "owa: {'Yearly': 0.966, 'Quarterly': 0.936, 'Monthly': 1.014, 'Others': 1.142, 'Average': 0.988}\n",
      "train 414\n",
      "test 414\n",
      "smape: {'Yearly': 16.7, 'Quarterly': 11.1, 'Monthly': 15.656, 'Others': 5.974, 'Average': 14.318}\n",
      "mape: {'Yearly': 19.47, 'Quarterly': 12.748, 'Monthly': 18.293, 'Others': 7.589, 'Average': 16.697}\n",
      "mase: {'Yearly': 3.619, 'Quarterly': 1.185, 'Monthly': 1.002, 'Others': 3.255, 'Average': 1.761}\n",
      "owa: {'Yearly': 0.966, 'Quarterly': 0.936, 'Monthly': 1.014, 'Others': 1.142, 'Average': 0.988}\n"
     ]
    }
   ],
   "source": [
    "print('ETS - Exponential Smoothing')\n",
    "for pattern in [\"Monthly\", \"Yearly\", \"Quarterly\", \"Weekly\", \"Daily\", \"Hourly\"]:\n",
    "    args = get_args(pattern)\n",
    "    x, y, test_loader = get_data(args)\n",
    "    season_len = M4Meta.frequency_map[args.seasonal_patterns]  # e.g., 12 for Monthly\n",
    "    preds = ets_forecast(x, args.pred_len, season_len)\n",
    "    evaluate('ets', args, x, y, test_loader, preds)"
   ]
  },
  {
   "cell_type": "code",
   "execution_count": 6,
   "metadata": {},
   "outputs": [
    {
     "name": "stdout",
     "output_type": "stream",
     "text": [
      "Naive2 Forecast\n",
      "train 48000\n",
      "test 48000\n"
     ]
    },
    {
     "name": "stdout",
     "output_type": "stream",
     "text": [
      "smape: {'Yearly': 15.339, 'Quarterly': 13.592, 'Monthly': 17.721, 'Others': 6.536, 'Average': 15.623}\n",
      "mape: {'Yearly': 18.295, 'Quarterly': 15.629, 'Monthly': 21.239, 'Others': 11.477, 'Average': 18.727}\n",
      "mase: {'Yearly': 3.422, 'Quarterly': 1.748, 'Monthly': 1.478, 'Others': 4.081, 'Average': 2.12}\n",
      "owa: {'Yearly': 0.9, 'Quarterly': 1.254, 'Monthly': 1.309, 'Others': 1.331, 'Average': 1.13}\n",
      "train 23000\n",
      "test 23000\n",
      "smape: {'Yearly': 15.339, 'Quarterly': 13.592, 'Monthly': 17.721, 'Others': 6.536, 'Average': 15.623}\n",
      "mape: {'Yearly': 18.295, 'Quarterly': 15.629, 'Monthly': 21.239, 'Others': 11.477, 'Average': 18.727}\n",
      "mase: {'Yearly': 3.422, 'Quarterly': 1.748, 'Monthly': 1.478, 'Others': 4.081, 'Average': 2.12}\n",
      "owa: {'Yearly': 0.9, 'Quarterly': 1.254, 'Monthly': 1.309, 'Others': 1.331, 'Average': 1.13}\n",
      "train 24000\n",
      "test 24000\n",
      "smape: {'Yearly': 15.339, 'Quarterly': 13.592, 'Monthly': 17.721, 'Others': 6.536, 'Average': 15.623}\n",
      "mape: {'Yearly': 18.295, 'Quarterly': 15.629, 'Monthly': 21.239, 'Others': 11.477, 'Average': 18.727}\n",
      "mase: {'Yearly': 3.422, 'Quarterly': 1.748, 'Monthly': 1.478, 'Others': 4.081, 'Average': 2.12}\n",
      "owa: {'Yearly': 0.9, 'Quarterly': 1.254, 'Monthly': 1.309, 'Others': 1.331, 'Average': 1.13}\n",
      "train 359\n",
      "test 359\n",
      "smape: {'Yearly': 15.339, 'Quarterly': 13.592, 'Monthly': 17.721, 'Others': 6.536, 'Average': 15.623}\n",
      "mape: {'Yearly': 18.295, 'Quarterly': 15.629, 'Monthly': 21.239, 'Others': 11.477, 'Average': 18.727}\n",
      "mase: {'Yearly': 3.422, 'Quarterly': 1.748, 'Monthly': 1.478, 'Others': 4.081, 'Average': 2.12}\n",
      "owa: {'Yearly': 0.9, 'Quarterly': 1.254, 'Monthly': 1.309, 'Others': 1.331, 'Average': 1.13}\n",
      "train 4227\n",
      "test 4227\n",
      "smape: {'Yearly': 15.339, 'Quarterly': 13.592, 'Monthly': 17.721, 'Others': 6.536, 'Average': 15.623}\n",
      "mape: {'Yearly': 18.295, 'Quarterly': 15.629, 'Monthly': 21.239, 'Others': 11.477, 'Average': 18.727}\n",
      "mase: {'Yearly': 3.422, 'Quarterly': 1.748, 'Monthly': 1.478, 'Others': 4.081, 'Average': 2.12}\n",
      "owa: {'Yearly': 0.9, 'Quarterly': 1.254, 'Monthly': 1.309, 'Others': 1.331, 'Average': 1.13}\n",
      "train 414\n",
      "test 414\n",
      "smape: {'Yearly': 15.339, 'Quarterly': 13.592, 'Monthly': 17.721, 'Others': 6.536, 'Average': 15.623}\n",
      "mape: {'Yearly': 18.295, 'Quarterly': 15.629, 'Monthly': 21.239, 'Others': 11.477, 'Average': 18.727}\n",
      "mase: {'Yearly': 3.422, 'Quarterly': 1.748, 'Monthly': 1.478, 'Others': 4.081, 'Average': 2.12}\n",
      "owa: {'Yearly': 0.9, 'Quarterly': 1.254, 'Monthly': 1.309, 'Others': 1.331, 'Average': 1.13}\n"
     ]
    }
   ],
   "source": [
    "print('Naive2 Forecast')\n",
    "for pattern in [\"Monthly\", \"Yearly\", \"Quarterly\", \"Weekly\", \"Daily\", \"Hourly\"]:\n",
    "    args = get_args(pattern)\n",
    "    x, y, test_loader = get_data(args)\n",
    "    season_len = M4Meta.frequency_map[args.seasonal_patterns]  # e.g., 12 for Monthly\n",
    "    preds = naive2_forecast(x, args.pred_len, season_len)\n",
    "    evaluate('naive2', args, x, y, test_loader, preds)"
   ]
  },
  {
   "cell_type": "code",
   "execution_count": 5,
   "metadata": {},
   "outputs": [
    {
     "name": "stdout",
     "output_type": "stream",
     "text": [
      "DHR-ARIMA\n",
      "train 48000\n",
      "test 48000\n",
      "smape: {'Yearly': 16.342, 'Quarterly': 11.61, 'Monthly': 15.256, 'Others': 6.793, 'Average': 14.208}\n",
      "mape: {'Yearly': 17.507, 'Quarterly': 13.182, 'Monthly': 19.014, 'Others': 7.33, 'Average': 16.684}\n",
      "mase: {'Yearly': 3.974, 'Quarterly': 1.477, 'Monthly': 1.205, 'Others': 3.932, 'Average': 2.044}\n",
      "owa: {'Yearly': 1.0, 'Quarterly': 1.066, 'Monthly': 1.095, 'Others': 1.335, 'Average': 1.058}\n",
      "train 23000\n",
      "test 23000\n",
      "smape: {'Yearly': 16.342, 'Quarterly': 11.61, 'Monthly': 15.256, 'Others': 6.793, 'Average': 14.208}\n",
      "mape: {'Yearly': 17.507, 'Quarterly': 13.182, 'Monthly': 19.014, 'Others': 7.33, 'Average': 16.684}\n",
      "mase: {'Yearly': 3.974, 'Quarterly': 1.477, 'Monthly': 1.205, 'Others': 3.932, 'Average': 2.044}\n",
      "owa: {'Yearly': 1.0, 'Quarterly': 1.066, 'Monthly': 1.095, 'Others': 1.335, 'Average': 1.058}\n",
      "train 24000\n",
      "test 24000\n",
      "smape: {'Yearly': 16.342, 'Quarterly': 11.61, 'Monthly': 15.256, 'Others': 6.793, 'Average': 14.208}\n",
      "mape: {'Yearly': 17.507, 'Quarterly': 13.182, 'Monthly': 19.014, 'Others': 7.33, 'Average': 16.684}\n",
      "mase: {'Yearly': 3.974, 'Quarterly': 1.477, 'Monthly': 1.205, 'Others': 3.932, 'Average': 2.044}\n",
      "owa: {'Yearly': 1.0, 'Quarterly': 1.066, 'Monthly': 1.095, 'Others': 1.335, 'Average': 1.058}\n",
      "train 359\n",
      "test 359\n",
      "smape: {'Yearly': 16.342, 'Quarterly': 11.61, 'Monthly': 15.256, 'Others': 6.793, 'Average': 14.208}\n",
      "mape: {'Yearly': 17.507, 'Quarterly': 13.182, 'Monthly': 19.014, 'Others': 7.33, 'Average': 16.684}\n",
      "mase: {'Yearly': 3.974, 'Quarterly': 1.477, 'Monthly': 1.205, 'Others': 3.932, 'Average': 2.044}\n",
      "owa: {'Yearly': 1.0, 'Quarterly': 1.066, 'Monthly': 1.095, 'Others': 1.335, 'Average': 1.058}\n",
      "train 4227\n",
      "test 4227\n",
      "smape: {'Yearly': 16.342, 'Quarterly': 11.61, 'Monthly': 15.256, 'Others': 6.793, 'Average': 14.208}\n",
      "mape: {'Yearly': 17.507, 'Quarterly': 13.182, 'Monthly': 19.014, 'Others': 7.33, 'Average': 16.684}\n",
      "mase: {'Yearly': 3.974, 'Quarterly': 1.477, 'Monthly': 1.205, 'Others': 3.932, 'Average': 2.044}\n",
      "owa: {'Yearly': 1.0, 'Quarterly': 1.066, 'Monthly': 1.095, 'Others': 1.335, 'Average': 1.058}\n",
      "train 414\n",
      "test 414\n",
      "smape: {'Yearly': 16.342, 'Quarterly': 11.61, 'Monthly': 15.256, 'Others': 6.793, 'Average': 14.208}\n",
      "mape: {'Yearly': 17.507, 'Quarterly': 13.182, 'Monthly': 19.014, 'Others': 7.33, 'Average': 16.684}\n",
      "mase: {'Yearly': 3.974, 'Quarterly': 1.477, 'Monthly': 1.205, 'Others': 3.932, 'Average': 2.044}\n",
      "owa: {'Yearly': 1.0, 'Quarterly': 1.066, 'Monthly': 1.095, 'Others': 1.335, 'Average': 1.058}\n"
     ]
    }
   ],
   "source": [
    "print('DHR-ARIMA')\n",
    "for pattern in [\"Monthly\", \"Yearly\", \"Quarterly\", \"Weekly\", \"Daily\", \"Hourly\"]:\n",
    "    args = get_args(pattern)\n",
    "    x, y, test_loader = get_data(args)\n",
    "    season_len = M4Meta.frequency_map[args.seasonal_patterns]  # e.g., 12 for Monthly\n",
    "    preds = dhr_arima_forecast(x, args.pred_len, season_len)\n",
    "    evaluate('dhr-arima', args, x, y, test_loader, preds)"
   ]
  },
  {
   "cell_type": "code",
   "execution_count": null,
   "metadata": {},
   "outputs": [],
   "source": []
  }
 ],
 "metadata": {
  "kernelspec": {
   "display_name": "venv",
   "language": "python",
   "name": "python3"
  },
  "language_info": {
   "codemirror_mode": {
    "name": "ipython",
    "version": 3
   },
   "file_extension": ".py",
   "mimetype": "text/x-python",
   "name": "python",
   "nbconvert_exporter": "python",
   "pygments_lexer": "ipython3",
   "version": "3.10.12"
  }
 },
 "nbformat": 4,
 "nbformat_minor": 5
}
